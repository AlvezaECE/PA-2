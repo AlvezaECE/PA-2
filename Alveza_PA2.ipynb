{
 "cells": [
  {
   "cell_type": "code",
   "execution_count": 17,
   "id": "acf4478b-3a3f-425b-86a6-5d035a6a74f1",
   "metadata": {},
   "outputs": [
    {
     "name": "stdout",
     "output_type": "stream",
     "text": [
      "Original Array = \n",
      " [[0.01142013 0.98905809 0.1408675  0.43164288 0.31842519]\n",
      " [0.39366371 0.62964359 0.40193724 0.65925318 0.97673263]\n",
      " [0.53234911 0.7547393  0.80409197 0.32286176 0.45380613]\n",
      " [0.1939081  0.36388501 0.10024977 0.8196471  0.84071897]\n",
      " [0.42603483 0.06457848 0.72582854 0.11679177 0.09861929]]\n",
      "\n",
      "Normalized Array = \n",
      " [[-1.54413102  1.80005934 -1.10133252 -0.10668187 -0.49396378]\n",
      " [-0.2365966   0.57061598 -0.20829547  0.67190102  1.75789784]\n",
      " [ 0.23780232  0.99852882  1.16734873 -0.47878767 -0.0308684 ]\n",
      " [-0.91989738 -0.3384601  -1.24027291  1.22055789  1.29263808]\n",
      " [-0.12586522 -1.3622931   0.89963426 -1.18368795 -1.24585029]]\n"
     ]
    }
   ],
   "source": [
    "import numpy as np\n",
    "\n",
    "# Make a random 5x5 ndarray and store its value in X\n",
    "X = np.random.rand(5, 5)\n",
    "\n",
    "# Define the formula for Normalized X\n",
    "# We can use .mean() and .std() for element-wise mean and standard deviation\n",
    "X_normalized = ((X - X.mean()) / X.std())\n",
    "\n",
    "# Save the normalized ndarray as X_normalized.npy\n",
    "np.save('X_normalized.npy', X_normalized)\n",
    "\n",
    "# Print the output for the original and normalized arrays\n",
    "print(\"Original Array = \\n\", X)\n",
    "print(\"\\nNormalized Array = \\n\", X_normalized)"
   ]
  },
  {
   "cell_type": "code",
   "execution_count": 21,
   "id": "9e59c51f-9a5e-4930-a5e1-dfce4e018fe5",
   "metadata": {},
   "outputs": [
    {
     "name": "stdout",
     "output_type": "stream",
     "text": [
      "A = \n",
      " [[    1     4     9    16    25    36    49    64    81   100]\n",
      " [  121   144   169   196   225   256   289   324   361   400]\n",
      " [  441   484   529   576   625   676   729   784   841   900]\n",
      " [  961  1024  1089  1156  1225  1296  1369  1444  1521  1600]\n",
      " [ 1681  1764  1849  1936  2025  2116  2209  2304  2401  2500]\n",
      " [ 2601  2704  2809  2916  3025  3136  3249  3364  3481  3600]\n",
      " [ 3721  3844  3969  4096  4225  4356  4489  4624  4761  4900]\n",
      " [ 5041  5184  5329  5476  5625  5776  5929  6084  6241  6400]\n",
      " [ 6561  6724  6889  7056  7225  7396  7569  7744  7921  8100]\n",
      " [ 8281  8464  8649  8836  9025  9216  9409  9604  9801 10000]]\n",
      "\n",
      "Values divisible by 3 = \n",
      " [   9   36   81  144  225  324  441  576  729  900 1089 1296 1521 1764\n",
      " 2025 2304 2601 2916 3249 3600 3969 4356 4761 5184 5625 6084 6561 7056\n",
      " 7569 8100 8649 9216 9801]\n"
     ]
    }
   ],
   "source": [
    "# Create a 10x10 array, containing the squares of the first 100 positive integers\n",
    "A = np.arange(1, 101).reshape(10, 10) ** 2\n",
    "\n",
    "# Determine the elements which are divisible by 3\n",
    "div_by_3 = A[A % 3 == 0]\n",
    "\n",
    "# Save as np.save\n",
    "np.save('div_by_3.npy', div_by_3)\n",
    "\n",
    "# Print the output for the original and the values divisible by 3\n",
    "print(\"A = \\n\", A)\n",
    "print(\"\\nValues divisible by 3 = \\n\", div_by_3)"
   ]
  },
  {
   "cell_type": "code",
   "execution_count": null,
   "id": "9a115567-aeb4-4c1b-9f2e-5a23a6fca78b",
   "metadata": {},
   "outputs": [],
   "source": []
  }
 ],
 "metadata": {
  "kernelspec": {
   "display_name": "Python 3 (ipykernel)",
   "language": "python",
   "name": "python3"
  },
  "language_info": {
   "codemirror_mode": {
    "name": "ipython",
    "version": 3
   },
   "file_extension": ".py",
   "mimetype": "text/x-python",
   "name": "python",
   "nbconvert_exporter": "python",
   "pygments_lexer": "ipython3",
   "version": "3.12.4"
  }
 },
 "nbformat": 4,
 "nbformat_minor": 5
}
